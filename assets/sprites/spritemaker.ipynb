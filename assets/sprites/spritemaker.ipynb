{
 "cells": [
  {
   "cell_type": "code",
   "execution_count": 12,
   "metadata": {},
   "outputs": [],
   "source": [
    "import os\n",
    "import cv2\n",
    "import numpy as np\n",
    "\n",
    "def draw_circle_image(circle_radius_idx, circle_color, image_size, typee=0):\n",
    "    sizez = [30, 60, 90, 110]\n",
    "    circle_radius = sizez[circle_radius_idx] / 2\n",
    "\n",
    "    # Create an image with a white background\n",
    "    image = np.zeros((image_size[0], image_size[1], 3), dtype=np.uint8)   # black background\n",
    "\n",
    "    # Calculate the center of the image\n",
    "    center_x, center_y = image_size[0] // 2, image_size[1] // 2\n",
    "\n",
    "    # Draw a circle with the specified radius in the center\n",
    "    circle_color_normalized = tuple(channel for channel in circle_color)\n",
    "\n",
    "    if (typee == 0):\n",
    "        cv2.circle(image, (center_x, center_y), int(circle_radius), color=circle_color_normalized, thickness=-1)\n",
    "    elif (typee == 1):\n",
    "        cv2.circle(image, (center_x, 0), int(circle_radius), color=circle_color_normalized, thickness=-1)\n",
    "    elif (typee == 2):\n",
    "        cv2.circle(image, (center_x, 119), int(circle_radius), color=circle_color_normalized, thickness=-1)\n",
    "\n",
    "    # Create the directory if it doesn't exist\n",
    "    save_dir = 'tiles\\\\'\n",
    "    os.makedirs(save_dir, exist_ok=True)\n",
    "\n",
    "    # Save the image using OpenCV\n",
    "    text = ''\n",
    "    if circle_color == (1, 0, 0):\n",
    "        text += 'black'\n",
    "    else:\n",
    "        text += 'white'\n",
    "\n",
    "    bonus = ['', 'down', 'up']\n",
    "    text += bonus[typee]\n",
    "\n",
    "    cv2.imwrite(os.path.join(save_dir, 'tiles' + text + str(circle_radius_idx) + \".png\"), image)\n",
    "\n",
    "# Example usage:\n",
    "BLACK = (1, 0, 0)  # OpenCV uses BGR format\n",
    "WHITE = (255, 255, 255)\n",
    "\n",
    "for i in range(4):\n",
    "    for t in range(3):\n",
    "        draw_circle_image(circle_radius_idx=i, circle_color=WHITE, image_size=(120, 120), typee=t)\n",
    "        draw_circle_image(circle_radius_idx=i, circle_color=BLACK, image_size=(120, 120), typee=t)\n"
   ]
  },
  {
   "cell_type": "code",
   "execution_count": null,
   "metadata": {},
   "outputs": [],
   "source": []
  }
 ],
 "metadata": {
  "kernelspec": {
   "display_name": "Python 3.9.13 ('myenv')",
   "language": "python",
   "name": "python3"
  },
  "language_info": {
   "codemirror_mode": {
    "name": "ipython",
    "version": 3
   },
   "file_extension": ".py",
   "mimetype": "text/x-python",
   "name": "python",
   "nbconvert_exporter": "python",
   "pygments_lexer": "ipython3",
   "version": "3.9.13"
  },
  "orig_nbformat": 4,
  "vscode": {
   "interpreter": {
    "hash": "de1e89af3ef8b17e93d79e53c27fdd6267335e03ee420ef3296d6319bf4dd9be"
   }
  }
 },
 "nbformat": 4,
 "nbformat_minor": 2
}
